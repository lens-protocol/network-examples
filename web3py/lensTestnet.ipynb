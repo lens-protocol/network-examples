{
 "cells": [
  {
   "cell_type": "code",
   "execution_count": 33,
   "metadata": {},
   "outputs": [],
   "source": [
    "\"\"\"\n",
    "Web3.py Lens Network Demo\n",
    "This Jupyter Notebook demonstrates how to:\n",
    "- Connect to the Lens Network Testnet\n",
    "- Fetch the latest block number\n",
    "- Check an account balance\n",
    "- Send a transaction\n",
    "- Perform contract call\n",
    "\"\"\"\n",
    "\n",
    "import os\n",
    "from eth_account import Account\n",
    "from eth_account.signers.local import LocalAccount\n",
    "from web3 import Web3"
   ]
  },
  {
   "attachments": {},
   "cell_type": "markdown",
   "metadata": {},
   "source": [
    "## Network Information"
   ]
  },
  {
   "cell_type": "code",
   "execution_count": null,
   "metadata": {},
   "outputs": [],
   "source": [
    "RPC_URL = \"https://rpc.testnet.lens.dev\"\n",
    "w3 = Web3(Web3.HTTPProvider(RPC_URL))\n",
    "\n",
    "print(\"Connected to Lens Network:\", w3.is_connected())\n",
    "\n",
    "latest_block = w3.eth.block_number\n",
    "print(\"Latest Block Number:\", latest_block)"
   ]
  },
  {
   "attachments": {},
   "cell_type": "markdown",
   "metadata": {},
   "source": [
    "## Wallet Balance"
   ]
  },
  {
   "cell_type": "code",
   "execution_count": null,
   "metadata": {},
   "outputs": [],
   "source": [
    "my_address = \"\"  # Replace with your address\n",
    "\n",
    "balance_wei = w3.eth.get_balance(my_address)\n",
    "balance_grass = w3.from_wei(balance_wei, \"ether\")\n",
    "print(f\"Balance of {my_address}: {balance_grass} GRASS\")\n"
   ]
  },
  {
   "attachments": {},
   "cell_type": "markdown",
   "metadata": {},
   "source": [
    "## Send Transaction"
   ]
  },
  {
   "cell_type": "code",
   "execution_count": null,
   "metadata": {},
   "outputs": [],
   "source": [
    "# Sending a transaction (requires private key)\n",
    "\n",
    "\n",
    "private_key = \"\"  # Replace with sender's private key\n",
    "receiver_address = \"\"  # Replace with recipient's address\n",
    "\n",
    "private_key = os.environ.get(\"PRIVATE_KEY\")\n",
    "assert private_key is not None, \"You must set PRIVATE_KEY environment variable\"\n",
    "assert private_key.startswith(\"0x\"), \"Private key must start with 0x hex prefix\"\n",
    "\n",
    "account: LocalAccount = Account.from_key(private_key)\n",
    "\n",
    "print(f\"Your hot wallet address is {account.address}\")\n",
    "\n",
    "transaction = {\n",
    "    \"to\": receiver_address,\n",
    "    \"from\": my_address,\n",
    "    \"value\": w3.to_wei(0.01, \"ether\"),  # Sending 0.01 GRASS\n",
    "    \"gas\": 21000,\n",
    "    'maxFeePerGas': w3.eth.gas_price,\n",
    "    'maxPriorityFeePerGas': 1000000000,\n",
    "    \"nonce\": w3.eth.get_transaction_count(my_address),\n",
    "    \"chainId\": 37111,\n",
    "}\n",
    "\n",
    "signed_tx = w3.eth.account.sign_transaction(transaction, private_key)\n",
    "\n",
    "tx_hash = w3.eth.send_raw_transaction(signed_tx.rawTransaction)\n",
    "print(\"Transaction sent! Hash:\", w3.to_hex(tx_hash))\n",
    "\n",
    "receipt = w3.eth.wait_for_transaction_receipt(tx_hash)\n",
    "print(\"Transaction confirmed in block:\", receipt.blockNumber)"
   ]
  },
  {
   "attachments": {},
   "cell_type": "markdown",
   "metadata": {},
   "source": [
    "### Contract Call"
   ]
  },
  {
   "cell_type": "code",
   "execution_count": null,
   "metadata": {},
   "outputs": [],
   "source": [
    "contract_address = \"0xb7462EaCd5487514b6b789CF1Fca3081020F4e21\"\n",
    "ping_abi = [\n",
    "    {\n",
    "        \"anonymous\": False,\n",
    "        \"inputs\": [\n",
    "            {\n",
    "                \"indexed\": True,\n",
    "                \"internalType\": \"address\",\n",
    "                \"name\": \"sender\",\n",
    "                \"type\": \"address\",\n",
    "            },\n",
    "        ],\n",
    "        \"name\": \"Pong\",\n",
    "        \"type\": \"event\",\n",
    "    },\n",
    "    {\n",
    "        \"inputs\": [],\n",
    "        \"name\": \"ping\",\n",
    "        \"outputs\": [],\n",
    "        \"stateMutability\": \"nonpayable\",\n",
    "        \"type\": \"function\",\n",
    "    },\n",
    "]\n",
    "\n",
    "contract = w3.eth.contract(address=contract_address, abi=ping_abi)\n",
    "\n",
    "transaction = contract.functions.ping().build_transaction({\n",
    "    \"from\": my_address,\n",
    "    \"gas\": 100000,\n",
    "    \"gasPrice\": w3.eth.gas_price,\n",
    "    \"nonce\": w3.eth.get_transaction_count(my_address),\n",
    "    \"chainId\": 37111,\n",
    "})\n",
    "\n",
    "signed_tx = w3.eth.account.sign_transaction(transaction, private_key)\n",
    "tx_hash = w3.eth.send_raw_transaction(signed_tx.rawTransaction)\n",
    "print(\"Ping transaction sent! Hash:\", w3.to_hex(tx_hash))\n",
    "\n",
    "receipt = w3.eth.wait_for_transaction_receipt(tx_hash)\n",
    "print(\"Transaction confirmed in block:\", receipt.blockNumber)\n"
   ]
  }
 ],
 "metadata": {
  "kernelspec": {
   "display_name": "Python 3",
   "language": "python",
   "name": "python3"
  },
  "language_info": {
   "codemirror_mode": {
    "name": "ipython",
    "version": 3
   },
   "file_extension": ".py",
   "mimetype": "text/x-python",
   "name": "python",
   "nbconvert_exporter": "python",
   "pygments_lexer": "ipython3",
   "version": "3.8.10"
  },
  "orig_nbformat": 4
 },
 "nbformat": 4,
 "nbformat_minor": 2
}
